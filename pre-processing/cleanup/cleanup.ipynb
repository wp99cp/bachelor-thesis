{
 "cells": [
  {
   "cell_type": "code",
   "execution_count": 100,
   "metadata": {
    "ExecuteTime": {
     "start_time": "2023-04-11T16:11:30.686197Z",
     "end_time": "2023-04-11T16:11:30.733636Z"
    },
    "collapsed": true
   },
   "outputs": [],
   "source": [
    "date = '20211112T102251'\n",
    "\n",
    "path = '/projects/bachelor-thesis/data/clean_up_masks'\n",
    "path = path + '/' + date\n",
    "\n",
    "# create folder\n",
    "import os\n",
    "\n",
    "os.mkdir(path)"
   ]
  },
  {
   "cell_type": "code",
   "execution_count": 101,
   "metadata": {
    "ExecuteTime": {
     "start_time": "2023-04-11T16:11:31.463871Z",
     "end_time": "2023-04-11T16:11:46.554550Z"
    }
   },
   "outputs": [
    {
     "data": {
      "text/plain": "'/projects/bachelor-thesis/data/clean_up_masks/20211112T102251/mask_coverage.jp2'"
     },
     "execution_count": 101,
     "metadata": {},
     "output_type": "execute_result"
    }
   ],
   "source": [
    "####################\n",
    "## Copy the data to the local directory\n",
    "####################\n",
    "\n",
    "import os\n",
    "import shutil\n",
    "\n",
    "# inside the folder /mnt/pf-pc20/bachelor-thesis search for the folder with the date\n",
    "subfolders = [f.path for f in os.scandir('/mnt/pf-pc20/bachelor-thesis/tmp') if f.is_dir()]\n",
    "subfolder = [f for f in subfolders if date in f and 'L1C' in f][0]\n",
    "subfolder = [f.path for f in os.scandir(subfolder + '/GRANULE') if f.is_dir()][0]\n",
    "subfolder += '/IMG_DATA'\n",
    "\n",
    "# list files\n",
    "files = [f.path for f in os.scandir(subfolder) if f.is_file()]\n",
    "file = [f for f in files if 'TCI' in f][0]\n",
    "\n",
    "# copy file to local directory\n",
    "shutil.copy(file, path)\n",
    "\n",
    "file = [f for f in files if 'B11' in f][0]\n",
    "shutil.copy(file, path)\n",
    "\n",
    "# copy /mnt/pf-pc20/bachelor-thesis/data/annotated_masks to local directory\n",
    "shutil.copy('/mnt/pf-pc20/bachelor-thesis/data/annotated_masks/' + date + '/mask.jp2',\n",
    "            path + '/mask_existing_algos.jp2')\n",
    "shutil.copy('/mnt/pf-pc20/bachelor-thesis/data/annotated_masks/' + date + '/mask_coverage.jp2',\n",
    "            path + '/mask_coverage.jp2')"
   ]
  },
  {
   "cell_type": "markdown",
   "metadata": {},
   "source": []
  },
  {
   "cell_type": "code",
   "execution_count": 102,
   "metadata": {
    "ExecuteTime": {
     "start_time": "2023-04-11T16:17:57.216930Z",
     "end_time": "2023-04-11T16:17:57.626717Z"
    }
   },
   "outputs": [
    {
     "data": {
      "text/plain": "'/projects/bachelor-thesis/data/clean_up_masks/20211112T102251/mask_prediction.jp2'"
     },
     "execution_count": 102,
     "metadata": {},
     "output_type": "execute_result"
    }
   ],
   "source": [
    "# TODO: run the model predicting the current date\n",
    "shutil.copy('/mnt/pf-pc20/bachelor-thesis/results/' + date + '_mask_prediction.jp2', path + '/mask_prediction.jp2')"
   ]
  },
  {
   "cell_type": "code",
   "execution_count": 103,
   "metadata": {
    "ExecuteTime": {
     "start_time": "2023-04-11T16:17:58.285317Z",
     "end_time": "2023-04-11T16:17:58.318897Z"
    }
   },
   "outputs": [
    {
     "data": {
      "text/plain": "'/projects/bachelor-thesis/data/clean_up_masks/20211112T102251/mask.jp2'"
     },
     "execution_count": 103,
     "metadata": {},
     "output_type": "execute_result"
    }
   ],
   "source": [
    "shutil.copy(path + '/mask_prediction.jp2', path + '/mask.jp2')"
   ]
  },
  {
   "cell_type": "code",
   "execution_count": 77,
   "metadata": {
    "ExecuteTime": {
     "start_time": "2023-04-11T15:30:13.764720Z",
     "end_time": "2023-04-11T15:30:13.809024Z"
    }
   },
   "outputs": [
    {
     "name": "stdout",
     "output_type": "stream",
     "text": [
      "/projects/bachelor-thesis/data/clean_up_masks/20211008T101829/mask.jp2\n"
     ]
    }
   ],
   "source": [
    "import rasterio\n",
    "\n",
    "mask_existing_algos_file = rasterio.open(path + '/mask_existing_algos.jp2')\n",
    "mask_prediction_file = rasterio.open(path + '/mask_prediction.jp2')\n",
    "mask_file = rasterio.open(path + '/mask.jp2', 'r+')\n",
    "mask_coverage_file = rasterio.open(path + '/mask_coverage.jp2', 'r+')\n",
    "\n",
    "print(path + '/mask.jp2')"
   ]
  },
  {
   "cell_type": "code",
   "execution_count": 78,
   "metadata": {
    "ExecuteTime": {
     "start_time": "2023-04-11T15:30:15.227142Z",
     "end_time": "2023-04-11T15:30:15.374073Z"
    }
   },
   "outputs": [],
   "source": [
    "# load data\n",
    "import numpy as np\n",
    "\n",
    "mask_existing_algos = mask_existing_algos_file.read(1)\n",
    "mask_prediction = mask_prediction_file.read(1)"
   ]
  },
  {
   "cell_type": "code",
   "execution_count": 155,
   "metadata": {
    "ExecuteTime": {
     "start_time": "2023-04-11T10:34:14.723514Z",
     "end_time": "2023-04-11T10:34:14.764835Z"
    }
   },
   "outputs": [
    {
     "ename": "FileNotFoundError",
     "evalue": "[Errno 2] No such file or directory: '/projects/bachelor-thesis/data/clean_up_masks/20210406T102021/clouds.geojson'",
     "output_type": "error",
     "traceback": [
      "\u001B[0;31m---------------------------------------------------------------------------\u001B[0m",
      "\u001B[0;31mFileNotFoundError\u001B[0m                         Traceback (most recent call last)",
      "Cell \u001B[0;32mIn[155], line 4\u001B[0m\n\u001B[1;32m      1\u001B[0m \u001B[38;5;66;03m# open marked clouds (geojson)\u001B[39;00m\n\u001B[1;32m      2\u001B[0m \u001B[38;5;28;01mimport\u001B[39;00m \u001B[38;5;21;01mjson\u001B[39;00m\n\u001B[0;32m----> 4\u001B[0m \u001B[38;5;28;01mwith\u001B[39;00m \u001B[38;5;28;43mopen\u001B[39;49m\u001B[43m(\u001B[49m\u001B[43mpath\u001B[49m\u001B[43m \u001B[49m\u001B[38;5;241;43m+\u001B[39;49m\u001B[43m \u001B[49m\u001B[38;5;124;43m'\u001B[39;49m\u001B[38;5;124;43m/clouds.geojson\u001B[39;49m\u001B[38;5;124;43m'\u001B[39;49m\u001B[43m)\u001B[49m \u001B[38;5;28;01mas\u001B[39;00m f:\n\u001B[1;32m      5\u001B[0m     clouds \u001B[38;5;241m=\u001B[39m json\u001B[38;5;241m.\u001B[39mload(f)\n\u001B[1;32m      7\u001B[0m     \u001B[38;5;66;03m# map to geometry.coordinates\u001B[39;00m\n",
      "File \u001B[0;32m~/.local/lib/python3.10/site-packages/IPython/core/interactiveshell.py:282\u001B[0m, in \u001B[0;36m_modified_open\u001B[0;34m(file, *args, **kwargs)\u001B[0m\n\u001B[1;32m    275\u001B[0m \u001B[38;5;28;01mif\u001B[39;00m file \u001B[38;5;129;01min\u001B[39;00m {\u001B[38;5;241m0\u001B[39m, \u001B[38;5;241m1\u001B[39m, \u001B[38;5;241m2\u001B[39m}:\n\u001B[1;32m    276\u001B[0m     \u001B[38;5;28;01mraise\u001B[39;00m \u001B[38;5;167;01mValueError\u001B[39;00m(\n\u001B[1;32m    277\u001B[0m         \u001B[38;5;124mf\u001B[39m\u001B[38;5;124m\"\u001B[39m\u001B[38;5;124mIPython won\u001B[39m\u001B[38;5;124m'\u001B[39m\u001B[38;5;124mt let you open fd=\u001B[39m\u001B[38;5;132;01m{\u001B[39;00mfile\u001B[38;5;132;01m}\u001B[39;00m\u001B[38;5;124m by default \u001B[39m\u001B[38;5;124m\"\u001B[39m\n\u001B[1;32m    278\u001B[0m         \u001B[38;5;124m\"\u001B[39m\u001B[38;5;124mas it is likely to crash IPython. If you know what you are doing, \u001B[39m\u001B[38;5;124m\"\u001B[39m\n\u001B[1;32m    279\u001B[0m         \u001B[38;5;124m\"\u001B[39m\u001B[38;5;124myou can use builtins\u001B[39m\u001B[38;5;124m'\u001B[39m\u001B[38;5;124m open.\u001B[39m\u001B[38;5;124m\"\u001B[39m\n\u001B[1;32m    280\u001B[0m     )\n\u001B[0;32m--> 282\u001B[0m \u001B[38;5;28;01mreturn\u001B[39;00m \u001B[43mio_open\u001B[49m\u001B[43m(\u001B[49m\u001B[43mfile\u001B[49m\u001B[43m,\u001B[49m\u001B[43m \u001B[49m\u001B[38;5;241;43m*\u001B[39;49m\u001B[43margs\u001B[49m\u001B[43m,\u001B[49m\u001B[43m \u001B[49m\u001B[38;5;241;43m*\u001B[39;49m\u001B[38;5;241;43m*\u001B[39;49m\u001B[43mkwargs\u001B[49m\u001B[43m)\u001B[49m\n",
      "\u001B[0;31mFileNotFoundError\u001B[0m: [Errno 2] No such file or directory: '/projects/bachelor-thesis/data/clean_up_masks/20210406T102021/clouds.geojson'"
     ]
    }
   ],
   "source": [
    "# open marked clouds (geojson)\n",
    "import json\n",
    "\n",
    "with open(path + '/clouds.geojson') as f:\n",
    "    clouds = json.load(f)\n",
    "\n",
    "    # map to geometry.coordinates\n",
    "    clouds = [c['geometry']['coordinates'] for c in clouds['features']]\n",
    "\n",
    "    # convert to pixel coordinates\n",
    "    clouds = [mask_existing_algos_file.index(c[0], c[1]) for c in clouds]\n",
    "\n",
    "print(\"Clouds:\")\n",
    "clouds"
   ]
  },
  {
   "cell_type": "code",
   "execution_count": 79,
   "metadata": {
    "ExecuteTime": {
     "start_time": "2023-04-11T15:30:17.123194Z",
     "end_time": "2023-04-11T15:30:17.134063Z"
    }
   },
   "outputs": [],
   "source": [
    "y_coors = 5_000"
   ]
  },
  {
   "cell_type": "code",
   "execution_count": 80,
   "metadata": {
    "ExecuteTime": {
     "start_time": "2023-04-11T15:30:25.552578Z",
     "end_time": "2023-04-11T15:30:27.309195Z"
    }
   },
   "outputs": [],
   "source": [
    "mask = np.zeros(mask_existing_algos.shape)\n",
    "\n",
    "# Copy all water pixels from mask_existing_algos to mask\n",
    "mask = np.where(mask_prediction == 3, 3, mask)\n",
    "\n",
    "# copy clouds\n",
    "mask = np.where(mask_prediction == 2, 2, mask)\n",
    "mask = np.where(mask_existing_algos == 2, 2, mask)\n",
    "\n",
    "# Copy all snow pixels\n",
    "# mask = np.where(mask_existing_algos == 1, 1, mask)\n",
    "mask = np.where(mask_prediction == 1, 1, mask)\n",
    "\n",
    "# 2) Copy all cloud pixels form mask_prediction and mask_existing_algos if they are both clouds\n",
    "# clouds_to_snow = np.where(mask_existing_algos == 2, 1, mask)\n",
    "# clouds_to_snow += np.where(mask_prediction == 2, 1, mask)\n",
    "# clouds_to_snow[:, :x_coors] = 0\n",
    "# mask = np.where(clouds_to_snow == 2, 1, mask)\n",
    "\n",
    "# 3) Copy all cloud pixels\n",
    "# cloud_pixels = np.where(mask_existing_algos == 2, 5, mask)\n",
    "# cloud_pixels += np.where(mask_prediction == 2, 5, mask)\n",
    "# cloud_pixels[y_coors:, :] = 0\n",
    "# mask = np.where(cloud_pixels == 10, 2, mask)\n",
    "\n",
    "# cloud_pixels = np.where(mask_existing_algos == 2, 5, mask)\n",
    "# cloud_pixels += np.where(mask_prediction == 2, 5, mask)\n",
    "# cloud_pixels[:y_coors, :] = 0\n",
    "\n",
    "# for i in range(y_coors, 10_980):\n",
    "#    for j in range(0, 10_980):\n",
    "#        if cloud_pixels[i, j] == 10:\n",
    "\n",
    "# check if near marked cloud (max_distance = 64)\n",
    "#            max_distance = 128\n",
    "#            for c in clouds:\n",
    "#                if abs(c[0] - i) < max_distance and abs(c[1] - j) < max_distance:\n",
    "#                    mask[i, j] = 2\n",
    "#                    break\n",
    "\n",
    "\n",
    "# copy snow pixels\n",
    "# snow_pixels = np.where(mask_prediction == 1, 5, mask)\n",
    "# snow_pixels += np.where(mask_existing_algos == 1, 5, mask)\n",
    "# snow_pixels[y_coors:, :] = 2\n",
    "# mask = np.where(snow_pixels == 10, 1, mask)\n",
    "# mask = np.where(snow_pixels == 2, 2, mask)\n",
    "\n",
    "# adjust mask coverage\n",
    "# mask_coverage = mask_coverage_file.read(1)\n",
    "# mask_coverage[y_coors:, :] = 0\n"
   ]
  },
  {
   "cell_type": "code",
   "execution_count": 81,
   "metadata": {
    "ExecuteTime": {
     "start_time": "2023-04-11T15:30:27.310455Z",
     "end_time": "2023-04-11T15:30:28.109627Z"
    }
   },
   "outputs": [],
   "source": [
    "# save the result as a new mask\n",
    "mask_file.write(mask, 1)\n",
    "# mask_coverage_file.write(mask_coverage, 1)\n",
    "\n",
    "mask_file.close()\n",
    "mask_coverage_file.close()"
   ]
  },
  {
   "cell_type": "code",
   "execution_count": 24,
   "metadata": {
    "ExecuteTime": {
     "start_time": "2023-04-11T14:25:12.685224Z",
     "end_time": "2023-04-11T14:25:12.773297Z"
    }
   },
   "outputs": [],
   "source": [
    "mask_file = rasterio.open(path + '/mask.jp2', 'r+')\n",
    "mask = mask_file.read(1)\n"
   ]
  },
  {
   "cell_type": "code",
   "execution_count": 32,
   "metadata": {
    "ExecuteTime": {
     "start_time": "2023-04-11T14:39:08.341969Z",
     "end_time": "2023-04-11T14:39:08.398439Z"
    }
   },
   "outputs": [
    {
     "name": "stdout",
     "output_type": "stream",
     "text": [
      "Clouds:\n"
     ]
    },
    {
     "data": {
      "text/plain": "[(3058, 4550), (3091, 4542), (3096, 4524), (3041, 4514)]"
     },
     "execution_count": 32,
     "metadata": {},
     "output_type": "execute_result"
    }
   ],
   "source": [
    "# open marked clouds (geojson)\n",
    "import json\n",
    "\n",
    "with open(path + '/clouds.geojson') as f:\n",
    "    clouds = json.load(f)\n",
    "\n",
    "    # map to geometry.coordinates\n",
    "    clouds = [c['geometry']['coordinates'] for c in clouds['features']]\n",
    "\n",
    "    # convert to pixel coordinates\n",
    "    clouds = [mask_existing_algos_file.index(c[0], c[1]) for c in clouds]\n",
    "\n",
    "print(\"Clouds:\")\n",
    "clouds"
   ]
  },
  {
   "cell_type": "code",
   "execution_count": null,
   "outputs": [],
   "source": [
    "for x, y in clouds:#%%\n",
    "date = '20210814T102031'\n",
    "\n",
    "path = '/projects/bachelor-thesis/data/clean_up_masks'\n",
    "path = path + '/' + date\n",
    "\n",
    "# create folder\n",
    "import os\n",
    "\n",
    "os.mkdir(path)"
   ],
   "metadata": {
    "collapsed": false
   }
  },
  {
   "cell_type": "code",
   "execution_count": null,
   "outputs": [],
   "source": [
    "####################\n",
    "## Copy the data to the local directory\n",
    "####################\n",
    "\n",
    "import os\n",
    "import shutil\n",
    "\n",
    "# inside the folder /mnt/pf-pc20/bachelor-thesis search for the folder with the date\n",
    "subfolders = [f.path for f in os.scandir('/mnt/pf-pc20/bachelor-thesis/tmp') if f.is_dir()]\n",
    "subfolder = [f for f in subfolders if date in f and 'L1C' in f][0]\n",
    "subfolder = [f.path for f in os.scandir(subfolder + '/GRANULE') if f.is_dir()][0]\n",
    "subfolder += '/IMG_DATA'\n",
    "\n",
    "# list files\n",
    "files = [f.path for f in os.scandir(subfolder) if f.is_file()]\n",
    "file = [f for f in files if 'TCI' in f][0]\n",
    "\n",
    "# copy file to local directory\n",
    "shutil.copy(file, path)\n",
    "\n",
    "file = [f for f in files if 'B11' in f][0]\n",
    "shutil.copy(file, path)\n",
    "\n",
    "# copy /mnt/pf-pc20/bachelor-thesis/data/annotated_masks to local directory\n",
    "shutil.copy('/mnt/pf-pc20/bachelor-thesis/data/annotated_masks/' + date + '/mask.jp2',\n",
    "            path + '/mask_existing_algos.jp2')\n",
    "shutil.copy('/mnt/pf-pc20/bachelor-thesis/data/annotated_masks/' + date + '/mask_coverage.jp2',\n",
    "            path + '/mask_coverage.jp2')"
   ],
   "metadata": {
    "collapsed": false
   }
  },
  {
   "cell_type": "markdown",
   "source": [],
   "metadata": {
    "collapsed": false
   }
  },
  {
   "cell_type": "code",
   "execution_count": null,
   "outputs": [],
   "source": [
    "# TODO: run the model predicting the current date\n",
    "shutil.copy('/mnt/pf-pc20/bachelor-thesis/results/' + date + '_mask_prediction.jp2', path + '/mask_prediction.jp2')"
   ],
   "metadata": {
    "collapsed": false
   }
  },
  {
   "cell_type": "code",
   "execution_count": null,
   "outputs": [],
   "source": [
    "shutil.copy(path + '/mask_prediction.jp2', path + '/mask.jp2')"
   ],
   "metadata": {
    "collapsed": false
   }
  },
  {
   "cell_type": "code",
   "execution_count": null,
   "outputs": [],
   "source": [
    "import rasterio\n",
    "\n",
    "mask_existing_algos_file = rasterio.open(path + '/mask_existing_algos.jp2')\n",
    "mask_prediction_file = rasterio.open(path + '/mask_prediction.jp2')\n",
    "mask_file = rasterio.open(path + '/mask.jp2', 'r+')\n",
    "mask_coverage_file = rasterio.open(path + '/mask_coverage.jp2', 'r+')\n",
    "\n",
    "print(path + '/mask.jp2')"
   ],
   "metadata": {
    "collapsed": false
   }
  },
  {
   "cell_type": "code",
   "execution_count": 92,
   "outputs": [],
   "source": [
    "# load data\n",
    "import numpy as np\n",
    "\n",
    "mask_existing_algos = mask_existing_algos_file.read(1)\n",
    "mask_prediction = mask_prediction_file.read(1)"
   ],
   "metadata": {
    "collapsed": false,
    "ExecuteTime": {
     "start_time": "2023-04-11T15:57:02.565003Z",
     "end_time": "2023-04-11T15:57:02.612338Z"
    }
   }
  },
  {
   "cell_type": "code",
   "execution_count": null,
   "outputs": [],
   "source": [
    "# open marked clouds (geojson)\n",
    "import json\n",
    "\n",
    "with open(path + '/clouds.geojson') as f:\n",
    "    clouds = json.load(f)\n",
    "\n",
    "    # map to geometry.coordinates\n",
    "    clouds = [c['geometry']['coordinates'] for c in clouds['features']]\n",
    "\n",
    "    # convert to pixel coordinates\n",
    "    clouds = [mask_existing_algos_file.index(c[0], c[1]) for c in clouds]\n",
    "\n",
    "print(\"Clouds:\")\n",
    "clouds"
   ],
   "metadata": {
    "collapsed": false
   }
  },
  {
   "cell_type": "code",
   "execution_count": null,
   "outputs": [],
   "source": [
    "y_coors = 5_000"
   ],
   "metadata": {
    "collapsed": false
   }
  },
  {
   "cell_type": "code",
   "execution_count": null,
   "outputs": [],
   "source": [
    "mask = np.zeros(mask_existing_algos.shape)\n",
    "\n",
    "# Copy all water pixels from mask_existing_algos to mask\n",
    "mask = np.where(mask_prediction == 3, 3, mask)\n",
    "\n",
    "# copy clouds\n",
    "mask = np.where(mask_prediction == 2, 2, mask)\n",
    "mask = np.where(mask_existing_algos == 2, 2, mask)\n",
    "\n",
    "# Copy all snow pixels\n",
    "# mask = np.where(mask_existing_algos == 1, 1, mask)\n",
    "mask = np.where(mask_prediction == 1, 1, mask)\n",
    "\n",
    "# 2) Copy all cloud pixels form mask_prediction and mask_existing_algos if they are both clouds\n",
    "# clouds_to_snow = np.where(mask_existing_algos == 2, 1, mask)\n",
    "# clouds_to_snow += np.where(mask_prediction == 2, 1, mask)\n",
    "# clouds_to_snow[:, :x_coors] = 0\n",
    "# mask = np.where(clouds_to_snow == 2, 1, mask)\n",
    "\n",
    "# 3) Copy all cloud pixels\n",
    "# cloud_pixels = np.where(mask_existing_algos == 2, 5, mask)\n",
    "# cloud_pixels += np.where(mask_prediction == 2, 5, mask)\n",
    "# cloud_pixels[y_coors:, :] = 0\n",
    "# mask = np.where(cloud_pixels == 10, 2, mask)\n",
    "\n",
    "# cloud_pixels = np.where(mask_existing_algos == 2, 5, mask)\n",
    "# cloud_pixels += np.where(mask_prediction == 2, 5, mask)\n",
    "# cloud_pixels[:y_coors, :] = 0\n",
    "\n",
    "# for i in range(y_coors, 10_980):\n",
    "#    for j in range(0, 10_980):\n",
    "#        if cloud_pixels[i, j] == 10:\n",
    "\n",
    "# check if near marked cloud (max_distance = 64)\n",
    "#            max_distance = 128\n",
    "#            for c in clouds:\n",
    "#                if abs(c[0] - i) < max_distance and abs(c[1] - j) < max_distance:\n",
    "#                    mask[i, j] = 2\n",
    "#                    break\n",
    "\n",
    "\n",
    "# copy snow pixels\n",
    "# snow_pixels = np.where(mask_prediction == 1, 5, mask)\n",
    "# snow_pixels += np.where(mask_existing_algos == 1, 5, mask)\n",
    "# snow_pixels[y_coors:, :] = 2\n",
    "# mask = np.where(snow_pixels == 10, 1, mask)\n",
    "# mask = np.where(snow_pixels == 2, 2, mask)\n",
    "\n",
    "# adjust mask coverage\n",
    "# mask_coverage = mask_coverage_file.read(1)\n",
    "# mask_coverage[y_coors:, :] = 0\n"
   ],
   "metadata": {
    "collapsed": false
   }
  },
  {
   "cell_type": "code",
   "execution_count": null,
   "outputs": [],
   "source": [
    "# save the result as a new mask\n",
    "mask_file.write(mask, 1)\n",
    "# mask_coverage_file.write(mask_coverage, 1)\n",
    "\n",
    "mask_file.close()\n",
    "mask_coverage_file.close()"
   ],
   "metadata": {
    "collapsed": false
   }
  },
  {
   "cell_type": "code",
   "execution_count": 93,
   "outputs": [],
   "source": [
    "mask_file = rasterio.open(path + '/mask.jp2', 'r+')\n",
    "mask = mask_file.read(1)\n"
   ],
   "metadata": {
    "collapsed": false,
    "ExecuteTime": {
     "start_time": "2023-04-11T15:57:08.476267Z",
     "end_time": "2023-04-11T15:57:08.535480Z"
    }
   }
  },
  {
   "cell_type": "code",
   "execution_count": 70,
   "outputs": [
    {
     "name": "stdout",
     "output_type": "stream",
     "text": [
      "Clouds:\n"
     ]
    },
    {
     "data": {
      "text/plain": "[(7027, 4562),\n (7077, 4608),\n (7103, 4617),\n (7040, 4565),\n (7051, 4591),\n (6986, 4392)]"
     },
     "execution_count": 70,
     "metadata": {},
     "output_type": "execute_result"
    }
   ],
   "source": [
    "# open marked clouds (geojson)\n",
    "import json\n",
    "\n",
    "with open(path + '/clouds.geojson') as f:\n",
    "    clouds = json.load(f)\n",
    "\n",
    "    # map to geometry.coordinates\n",
    "    clouds = [c['geometry']['coordinates'] for c in clouds['features']]\n",
    "\n",
    "    # convert to pixel coordinates\n",
    "    clouds = [mask_existing_algos_file.index(c[0], c[1]) for c in clouds]\n",
    "\n",
    "print(\"Clouds:\")\n",
    "clouds"
   ],
   "metadata": {
    "collapsed": false,
    "ExecuteTime": {
     "start_time": "2023-04-11T15:18:17.830361Z",
     "end_time": "2023-04-11T15:18:17.849263Z"
    }
   }
  },
  {
   "cell_type": "code",
   "execution_count": 71,
   "outputs": [],
   "source": [
    "for x, y in clouds:\n",
    "\n",
    "    r = 64\n",
    "\n",
    "    for i in range(-r, r):\n",
    "        for j in range(-r, r):\n",
    "            if i**2 + j**2 < r**2:\n",
    "\n",
    "                # remove water\n",
    "                if mask[x + i, y + j] == 3:\n",
    "                    mask[x + i, y + j] = 0\n",
    "\n"
   ],
   "metadata": {
    "collapsed": false,
    "ExecuteTime": {
     "start_time": "2023-04-11T15:18:29.938495Z",
     "end_time": "2023-04-11T15:18:30.083830Z"
    }
   }
  },
  {
   "cell_type": "code",
   "execution_count": 94,
   "outputs": [],
   "source": [
    "for i in range(0, 10_980):\n",
    "    for j in range(0, 10_980):\n",
    "        if mask[i, j] == 2:\n",
    "            mask[i, j] = 1"
   ],
   "metadata": {
    "collapsed": false,
    "ExecuteTime": {
     "start_time": "2023-04-11T15:57:42.479789Z",
     "end_time": "2023-04-11T15:59:42.535952Z"
    }
   }
  },
  {
   "cell_type": "code",
   "execution_count": 95,
   "outputs": [],
   "source": [
    "# save the result as a new mask\n",
    "mask_file.write(mask, 1)\n",
    "# mask_coverage_file.write(mask_coverage, 1)\n",
    "\n",
    "mask_file.close()\n",
    "mask_coverage_file.close()"
   ],
   "metadata": {
    "collapsed": false,
    "ExecuteTime": {
     "start_time": "2023-04-11T15:59:42.577031Z",
     "end_time": "2023-04-11T15:59:43.021765Z"
    }
   }
  },
  {
   "cell_type": "code",
   "execution_count": null,
   "outputs": [],
   "source": [],
   "metadata": {
    "collapsed": false
   }
  },
  {
   "cell_type": "code",
   "execution_count": null,
   "outputs": [],
   "source": [],
   "metadata": {
    "collapsed": false
   }
  },
  {
   "cell_type": "code",
   "execution_count": 47,
   "outputs": [],
   "source": [
    "mask_coverage_file = rasterio.open(path + '/mask_coverage.jp2', 'r+')\n",
    "mask_coverage = mask_coverage_file.read(1)\n",
    "\n",
    "mask_coverage[8000:, :] = 0\n",
    "\n",
    "mask_coverage_file.write(mask_coverage, 1)\n",
    "mask_coverage_file.close()\n"
   ],
   "metadata": {
    "collapsed": false,
    "ExecuteTime": {
     "start_time": "2023-04-11T14:51:44.342992Z",
     "end_time": "2023-04-11T14:51:46.394548Z"
    }
   }
  },
  {
   "cell_type": "code",
   "execution_count": null,
   "outputs": [],
   "source": [],
   "metadata": {
    "collapsed": false
   }
  },
  {
   "cell_type": "code",
   "execution_count": 255,
   "outputs": [],
   "source": [],
   "metadata": {
    "collapsed": false,
    "ExecuteTime": {
     "start_time": "2023-04-11T13:37:57.025840Z",
     "end_time": "2023-04-11T13:37:57.104565Z"
    }
   }
  },
  {
   "cell_type": "code",
   "execution_count": 256,
   "outputs": [],
   "source": [],
   "metadata": {
    "collapsed": false,
    "ExecuteTime": {
     "start_time": "2023-04-11T13:37:58.188349Z",
     "end_time": "2023-04-11T13:37:58.340424Z"
    }
   }
  },
  {
   "cell_type": "code",
   "execution_count": 257,
   "outputs": [],
   "source": [],
   "metadata": {
    "collapsed": false,
    "ExecuteTime": {
     "start_time": "2023-04-11T13:37:59.567071Z",
     "end_time": "2023-04-11T13:38:03.043993Z"
    }
   }
  },
  {
   "cell_type": "code",
   "execution_count": 258,
   "outputs": [],
   "source": [],
   "metadata": {
    "collapsed": false,
    "ExecuteTime": {
     "start_time": "2023-04-11T13:38:01.066897Z",
     "end_time": "2023-04-11T13:38:03.603758Z"
    }
   }
  },
  {
   "cell_type": "code",
   "execution_count": 159,
   "outputs": [],
   "source": [],
   "metadata": {
    "collapsed": false,
    "ExecuteTime": {
     "start_time": "2023-04-11T11:32:47.971843Z",
     "end_time": "2023-04-11T11:32:48.013455Z"
    }
   }
  }
 ],
 "metadata": {
  "kernelspec": {
   "display_name": "bachelor_thesis",
   "language": "python",
   "name": "bachelor_thesis"
  },
  "language_info": {
   "codemirror_mode": {
    "name": "ipython",
    "version": 3
   },
   "file_extension": ".py",
   "mimetype": "text/x-python",
   "name": "python",
   "nbconvert_exporter": "python",
   "pygments_lexer": "ipython3",
   "version": "3.10.9"
  }
 },
 "nbformat": 4,
 "nbformat_minor": 1
}
